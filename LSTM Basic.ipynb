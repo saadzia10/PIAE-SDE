{
 "cells": [
  {
   "cell_type": "code",
   "execution_count": 1,
   "id": "d0388f01-d446-464f-b9f9-0ff414504496",
   "metadata": {},
   "outputs": [],
   "source": [
    "import pickle\n",
    "import numpy as np\n",
    "import tensorflow as tf\n",
    "from tensorflow.keras import backend as K\n",
    "from tensorflow.keras.preprocessing.sequence import pad_sequences\n",
    "from tensorflow.keras.metrics import R2Score\n",
    "from tensorflow.keras.models import Sequential\n",
    "from tensorflow.keras.layers import LSTM, Dense, Dropout, Masking, TimeDistributed, Lambda\n",
    "from tensorflow.keras.optimizers.legacy import Adam"
   ]
  },
  {
   "cell_type": "markdown",
   "id": "3747c303-8829-4beb-845a-9464c5386fc4",
   "metadata": {},
   "source": [
    "## Data Loading"
   ]
  },
  {
   "cell_type": "code",
   "execution_count": 2,
   "id": "b9945532-4e73-43c4-b666-a014efca5dae",
   "metadata": {},
   "outputs": [],
   "source": [
    "with open(\"./data_manipulation/lstm_data.pickle\", \"rb\") as fp:\n",
    "    data = pickle.load(fp)\n",
    "\n",
    "X = data[\"X\"]\n",
    "Y = data[\"Y\"]\n",
    "del data"
   ]
  },
  {
   "cell_type": "markdown",
   "id": "68581ddf-e37b-49a0-9d4c-5d737b7bd352",
   "metadata": {},
   "source": [
    "## Model Building"
   ]
  },
  {
   "cell_type": "code",
   "execution_count": 3,
   "id": "cac272f9-224c-4f65-b222-18706c6fc9f3",
   "metadata": {},
   "outputs": [],
   "source": [
    "metric = R2Score()"
   ]
  },
  {
   "cell_type": "code",
   "execution_count": 4,
   "id": "c7bcb11f-b23c-401e-81dc-645a62a03818",
   "metadata": {},
   "outputs": [],
   "source": [
    "# Padding function\n",
    "def pad_sequences_dynamic(targets, padding_value=np.nan):\n",
    "    return pad_sequences(targets, dtype='float32', padding='post', value=padding_value)\n",
    "\n",
    "def r2_score(y_true, y_pred):\n",
    "    mask = tf.math.is_finite(y_true)\n",
    "    y_true = tf.where(mask, y_true, y_pred)  # Replace NaNs with predictions in y_true\n",
    "    y_true_mean = K.mean(y_true, axis=-1, keepdims=True)\n",
    "    ss_total = K.sum(K.square(y_true - y_true_mean), axis=-1)\n",
    "    ss_res = K.sum(K.square(y_true - y_pred), axis=-1)\n",
    "    r2 = 1 - ss_res / (ss_total + K.epsilon())\n",
    "    return r2\n",
    "    \n",
    "# Custom loss function to handle NaN values\n",
    "def custom_mse_loss(y_true, y_pred):\n",
    "    mask = tf.math.is_finite(y_true)\n",
    "    y_true = tf.where(mask, y_true, y_pred)  # Replace NaNs with predictions in y_true\n",
    "    return tf.keras.losses.mean_squared_error(y_true, y_pred)\n",
    "\n",
    "def build_lstm_model(input_shape, output_length):\n",
    "    model = Sequential()\n",
    "    model.add(Masking(mask_value=np.nan, input_shape=input_shape))\n",
    "    model.add(TimeDistributed(Dense(16)))\n",
    "    model.add(LSTM(8, return_sequences=True))\n",
    "    #model.add(Dropout(0.2))\n",
    "    model.add(LSTM(8, return_sequences=True))\n",
    "    #model.add(Dropout(0.2))\n",
    "    model.add(TimeDistributed(Dense(1)))  # Use TimeDistributed to predict for each time step\n",
    "    model.add(Lambda(lambda x: x[:, -output_length:, :]))  # Truncate to the output length\n",
    "    model.compile(optimizer=Adam(), loss=custom_mse_loss, metrics=[r2_score])\n",
    "    return model"
   ]
  },
  {
   "cell_type": "code",
   "execution_count": 5,
   "id": "534ae418-e18e-4dd0-90ed-a37e391e8db4",
   "metadata": {},
   "outputs": [],
   "source": [
    "# Pad the targets for batch processing\n",
    "Y_padded = pad_sequences_dynamic(Y, padding_value=np.nan)\n",
    "Y_padded = np.expand_dims(Y_padded, -1)"
   ]
  },
  {
   "cell_type": "code",
   "execution_count": 6,
   "id": "cc4ee711-d947-4015-9425-8deaee26dc24",
   "metadata": {},
   "outputs": [
    {
     "name": "stdout",
     "output_type": "stream",
     "text": [
      "(8, 23) 8\n"
     ]
    }
   ],
   "source": [
    "input_shape = (X.shape[1], X.shape[2])  # (time steps, features)\n",
    "output_length = Y_padded.shape[1]\n",
    "\n",
    "print(input_shape,output_length)"
   ]
  },
  {
   "cell_type": "code",
   "execution_count": 7,
   "id": "bf97b08e-99a4-4a2c-bb83-cfbbb8e8e509",
   "metadata": {},
   "outputs": [
    {
     "name": "stdout",
     "output_type": "stream",
     "text": [
      "Model: \"sequential\"\n",
      "_________________________________________________________________\n",
      " Layer (type)                Output Shape              Param #   \n",
      "=================================================================\n",
      " masking (Masking)           (None, 8, 23)             0         \n",
      "                                                                 \n",
      " time_distributed (TimeDist  (None, 8, 16)             384       \n",
      " ributed)                                                        \n",
      "                                                                 \n",
      " lstm (LSTM)                 (None, 8, 8)              800       \n",
      "                                                                 \n",
      " lstm_1 (LSTM)               (None, 8, 8)              544       \n",
      "                                                                 \n",
      " time_distributed_1 (TimeDi  (None, 8, 1)              9         \n",
      " stributed)                                                      \n",
      "                                                                 \n",
      " lambda (Lambda)             (None, 8, 1)              0         \n",
      "                                                                 \n",
      "=================================================================\n",
      "Total params: 1737 (6.79 KB)\n",
      "Trainable params: 1737 (6.79 KB)\n",
      "Non-trainable params: 0 (0.00 Byte)\n",
      "_________________________________________________________________\n"
     ]
    }
   ],
   "source": [
    "model = build_lstm_model(input_shape, output_length)\n",
    "model.summary()"
   ]
  },
  {
   "cell_type": "code",
   "execution_count": 8,
   "id": "26fd32de-0c88-416e-b332-8b8fb279f4ab",
   "metadata": {},
   "outputs": [
    {
     "data": {
      "text/plain": [
       "((4992, 8, 23), (4992, 8, 1))"
      ]
     },
     "execution_count": 8,
     "metadata": {},
     "output_type": "execute_result"
    }
   ],
   "source": [
    "X.shape, Y_padded.shape"
   ]
  },
  {
   "cell_type": "code",
   "execution_count": null,
   "id": "eb564d97-177f-4b84-8118-0aebb020a3b2",
   "metadata": {},
   "outputs": [
    {
     "name": "stdout",
     "output_type": "stream",
     "text": [
      "Epoch 1/2000\n"
     ]
    }
   ],
   "source": [
    "# Mask the padding values during training\n",
    "model.fit(X, Y_padded, epochs=2000, batch_size=None, validation_split=0.2)"
   ]
  },
  {
   "cell_type": "code",
   "execution_count": null,
   "id": "bf03ddf4-9a8b-487a-9f08-ace90e2f836e",
   "metadata": {},
   "outputs": [],
   "source": []
  },
  {
   "cell_type": "code",
   "execution_count": null,
   "id": "35d7991e-451d-45bf-a41f-142d0868d52e",
   "metadata": {},
   "outputs": [],
   "source": []
  }
 ],
 "metadata": {
  "kernelspec": {
   "display_name": "Python 3 (ipykernel)",
   "language": "python",
   "name": "python3"
  },
  "language_info": {
   "codemirror_mode": {
    "name": "ipython",
    "version": 3
   },
   "file_extension": ".py",
   "mimetype": "text/x-python",
   "name": "python",
   "nbconvert_exporter": "python",
   "pygments_lexer": "ipython3",
   "version": "3.8.19"
  }
 },
 "nbformat": 4,
 "nbformat_minor": 5
}
