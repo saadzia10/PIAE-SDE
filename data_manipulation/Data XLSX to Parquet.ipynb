{
 "cells": [
  {
   "cell_type": "code",
   "execution_count": 1,
   "id": "36c38e6b-9cff-4d36-bb28-0a0a17f295ee",
   "metadata": {},
   "outputs": [],
   "source": [
    "import numpy as np\n",
    "import pandas as pd\n",
    "from pathlib import Path"
   ]
  },
  {
   "cell_type": "code",
   "execution_count": 46,
   "id": "af6a3f9f-03a0-422e-a0de-fb416bc24ea7",
   "metadata": {},
   "outputs": [],
   "source": [
    "data_path = Path(\"./other_sites/redmere_1/\")\n",
    "source_file = list(data_path.glob(\"*.xlsx\"))[0]\n",
    "out_dir = data_path\n"
   ]
  },
  {
   "cell_type": "code",
   "execution_count": 44,
   "id": "85255aa7-ec19-49e6-94e4-3204395f0393",
   "metadata": {},
   "outputs": [],
   "source": [
    "data = pd.read_excel(source_file)"
   ]
  },
  {
   "cell_type": "code",
   "execution_count": 45,
   "id": "a1373168-27a9-48e4-8cf3-e6f05d219e9d",
   "metadata": {},
   "outputs": [],
   "source": [
    "data.to_parquet(out_dir.joinpath(\"data.parquet\"))"
   ]
  }
 ],
 "metadata": {
  "kernelspec": {
   "display_name": "Python 3 (ipykernel)",
   "language": "python",
   "name": "python3"
  },
  "language_info": {
   "codemirror_mode": {
    "name": "ipython",
    "version": 3
   },
   "file_extension": ".py",
   "mimetype": "text/x-python",
   "name": "python",
   "nbconvert_exporter": "python",
   "pygments_lexer": "ipython3",
   "version": "3.12.7"
  }
 },
 "nbformat": 4,
 "nbformat_minor": 5
}
