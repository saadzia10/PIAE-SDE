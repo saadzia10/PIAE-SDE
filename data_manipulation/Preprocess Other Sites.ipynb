{
 "cells": [
  {
   "cell_type": "code",
   "execution_count": 1,
   "id": "462ae36e-709e-4fdc-b0f7-c1fd0af6359e",
   "metadata": {},
   "outputs": [],
   "source": [
    "import numpy as np\n",
    "import pandas as pd\n",
    "import matplotlib.pyplot as plt\n",
    "import seaborn as sns\n",
    "sns.set()\n",
    "from pathlib import Path\n",
    "import os\n",
    "import itertools\n",
    "import re\n"
   ]
  },
  {
   "cell_type": "code",
   "execution_count": 2,
   "id": "3fb546ab",
   "metadata": {},
   "outputs": [
    {
     "name": "stdout",
     "output_type": "stream",
     "text": [
      "/Users/saadzia/Work/phd/PIAE/PI-VAE-Climate/data_manipulation\n",
      "/Users/saadzia/Work/phd/PIAE/PI-VAE-Climate/data_manipulation\n"
     ]
    }
   ],
   "source": [
    "\n",
    "print(os.getcwd())\n",
    "if os.getcwd().split('/')[-1] != \"data_manipulation\":\n",
    "    os.chdir(\"./data_manipulation\")\n",
    "print(os.getcwd())"
   ]
  },
  {
   "cell_type": "code",
   "execution_count": 3,
   "id": "03f556ff-05b4-4186-bf53-4ae8ee074a52",
   "metadata": {},
   "outputs": [],
   "source": [
    "data_path = Path(\"./other_sites/redmere_2/data.parquet\")\n",
    "main_data_path = Path(\"./complete_data.parquet\")\n",
    "\n",
    "site_data = pd.read_parquet(data_path)\n",
    "main_data = pd.read_parquet(main_data_path)\n"
   ]
  },
  {
   "cell_type": "code",
   "execution_count": 4,
   "id": "44efc457-43fc-4d23-835b-bb05f72f485b",
   "metadata": {},
   "outputs": [],
   "source": [
    "for col in site_data.columns:\n",
    "    site_data[col] = site_data[col].replace(-9999, np.nan)\n",
    "\n",
    "for col in main_data.columns:\n",
    "    main_data[col] = main_data[col].replace(-9999, np.nan)"
   ]
  },
  {
   "cell_type": "code",
   "execution_count": 5,
   "id": "8cda71b6",
   "metadata": {},
   "outputs": [
    {
     "data": {
      "text/plain": [
       "(Index(['site', 'TIMESTAMP_START', 'TIMESTAMP_END', 'TS_3_1_1', 'TS_1_2_1',\n",
       "        'TS_2_2_1', 'TS_3_2_1', 'TS_1_3_1', 'TS_2_3_1', 'TS_3_3_1',\n",
       "        ...\n",
       "        'GPP_NT_VUT_USTAR95', 'RECO_DT_VUT_REF', 'RECO_DT_VUT_USTAR50',\n",
       "        'RECO_DT_VUT_USTAR05', 'RECO_DT_VUT_USTAR95', 'GPP_DT_VUT_REF',\n",
       "        'GPP_DT_VUT_USTAR50', 'GPP_DT_VUT_USTAR05', 'GPP_DT_VUT_USTAR95',\n",
       "        'WATER_TABLE_DEPTH'],\n",
       "       dtype='object', length=130),\n",
       " Index(['DateTime', 'NEE', 'NEE_unc', 'LE', 'LE_unc', 'H', 'H_unc', 'Tau',\n",
       "        'Tau_unc', 'CO2_strg', 'LE_strg', 'H_strg', 'Pa', 'Ta', 'RH', 'VPD',\n",
       "        'Rnet', 'Rg', 'G1', 'G2', 'G3', 'G4', 'Tsoil1', 'Tsoil2', 'VWC_1',\n",
       "        'VWC2', 'Precipitation', 'Windspeed', 'Winddir', 'FootprintFraction',\n",
       "        'Ustar', 'TKE', 'Tstar', 'L', 'zL', 'NEE_filled', 'NEE_filled_sd',\n",
       "        'LE_filled', 'LE_filled_sd', 'H_filled', 'H_filled_sd', 'TER', 'GEP',\n",
       "        'Day/Night', 'Date', 'Time (past local midnight)', 'Julian Day',\n",
       "        'Julian Century', 'Geom Mean Long Sun (deg)',\n",
       "        'Geom Mean Anom Sun (deg)', 'Eccent Earth Orbit', 'Sun Eq of Ctr',\n",
       "        'Sun True Long (deg)', 'Sun App Long (deg)',\n",
       "        'Mean Obliq Ecliptic (deg)', 'Obliq Corr (deg)', 'Sun Declin (deg)',\n",
       "        'var y', 'Eq of Time (minutes)', 'HA Sunrise (deg)', 'Solar Noon (LST)',\n",
       "        'Sunrise Time (LST)', 'Sunset Time (LST)'],\n",
       "       dtype='object'))"
      ]
     },
     "execution_count": 5,
     "metadata": {},
     "output_type": "execute_result"
    }
   ],
   "source": [
    "site_data.columns, main_data.columns"
   ]
  },
  {
   "cell_type": "markdown",
   "id": "e2a727ab",
   "metadata": {},
   "source": [
    "### Columns used in training\n",
    "```\n",
    "['Ta', 'H', 'Tau', 'LE_strg', 'RH', 'VPD', 'Rg', 'Ustar', 'Tsoil1', 'Tsoil2']\n",
    "```"
   ]
  },
  {
   "cell_type": "markdown",
   "id": "38081222",
   "metadata": {},
   "source": [
    "# This section is for sites with the FLUXNET2015 data format"
   ]
  },
  {
   "cell_type": "code",
   "execution_count": 6,
   "id": "1f572938-1ec3-45a9-8fe3-61f34a43eddc",
   "metadata": {},
   "outputs": [],
   "source": [
    "def preprocess_site_data(site_data):\n",
    "    # Mapping from main_data to possible site_data columns\n",
    "    main_to_fluxnet = {\n",
    "        'NEE': ['NEE_VUT_REF', 'NEE', 'NEE_VUT_USTAR50', 'NEE_VUT_USTAR05', 'NEE_VUT_USTAR95'],\n",
    "        'H': ['H', 'H_F_MDS'],\n",
    "        'Tau': ['TAU'],\n",
    "        'LE': ['LE', 'LE_F_MDS'],\n",
    "        'RH': ['RH', 'RH_F_MDS'],\n",
    "        'VPD': ['VPD', 'VPD_F_MDS'],\n",
    "        'Ustar': ['USTAR'],\n",
    "        'Ta': ['TA', 'TA_F_MDS'],\n",
    "        # Rg handled separately\n",
    "    }\n",
    "    # 1. Select and rename columns\n",
    "    final_cols = {}\n",
    "    for main_col, candidates in main_to_fluxnet.items():\n",
    "        for cand in candidates:\n",
    "            if cand in site_data.columns:\n",
    "                final_cols[main_col] = cand\n",
    "                break\n",
    "\n",
    "    # 2. Handle Tsoil: mean of shallowest TS_* at each position\n",
    "    ts_cols = [col for col in site_data.columns if col.startswith('TS_')]\n",
    "    parsed = []\n",
    "    for col in ts_cols:\n",
    "        m = re.match(r'TS_(\\d+)_(\\d+)_(\\d+)', col)\n",
    "        if m:\n",
    "            position, depth, c = map(int, m.groups())\n",
    "            parsed.append((col, position, depth, c))\n",
    "    shallowest = {}\n",
    "    for col, position, depth, c in parsed:\n",
    "        if position not in shallowest or depth < shallowest[position][1]:\n",
    "            shallowest[position] = (col, depth)\n",
    "    shallowest_cols = [v[0] for v in shallowest.values()]\n",
    "    site_data['Tsoil'] = site_data[shallowest_cols].mean(axis=1)\n",
    "\n",
    "    \n",
    "    # 4. Convert TIMESTAMP_START to DateTime (matching main_data format)\n",
    "    if 'TIMESTAMP_START' in site_data.columns:\n",
    "        site_data['DateTime'] = pd.to_datetime(site_data['TIMESTAMP_START'].astype(str), format='%Y%m%d%H%M')\n",
    "    elif 'TIMESTAMP_END' in site_data.columns:\n",
    "        site_data['DateTime'] = pd.to_datetime(site_data['TIMESTAMP_END'].astype(str), format='%Y%m%d%H%M')\n",
    "    else:\n",
    "        raise ValueError(\"No TIMESTAMP_START or TIMESTAMP_END column found in site_data.\")\n",
    "\n",
    "    # 5. Calculate Rg as SW_IN - SW_OUT + LW_IN - LW_OUT\n",
    "    for col in ['SW_IN', 'SW_OUT', 'LW_IN', 'LW_OUT']:\n",
    "        if col not in site_data.columns:\n",
    "            raise ValueError(f\"Column {col} not found in site_data, cannot compute Rg.\")\n",
    "    site_data['Rg'] = (site_data['SW_IN'] - site_data['SW_OUT']) + (site_data['LW_IN'] - site_data['LW_OUT'])\n",
    "\n",
    "    # 6. Build final DataFrame\n",
    "    output_cols = ['DateTime'] + list(final_cols.keys()) + ['Tsoil', 'Rg']\n",
    "    output_df = pd.DataFrame()\n",
    "    output_df['DateTime'] = site_data['DateTime']\n",
    "    for main_col in final_cols:\n",
    "        output_df[main_col] = site_data[final_cols[main_col]]\n",
    "    output_df['Tsoil'] = site_data['Tsoil']\n",
    "    output_df['Rg'] = site_data['Rg']\n",
    "    \n",
    "    return output_df\n"
   ]
  },
  {
   "cell_type": "code",
   "execution_count": null,
   "id": "c68efec3",
   "metadata": {},
   "outputs": [],
   "source": [
    "processed_site_data = preprocess_site_data(site_data)\n",
    "processed_site_data.to_parquet(data_path.parent.joinpath(\"processed_data.parquet\"))\n"
   ]
  },
  {
   "cell_type": "code",
   "execution_count": null,
   "id": "10ffbea8",
   "metadata": {},
   "outputs": [],
   "source": [
    "plt.figure(figsize=(10, 6), dpi=120)\n",
    "main_data.Rg.plot()\n",
    "main_data.Rnet.plot()\n",
    "site_data.SW_IN.plot()\n",
    "site_data.SW_OUT.plot()\n",
    "site_data.LW_IN.plot()\n",
    "site_data.LW_OUT.plot()\n",
    "processed_site_data.Rg.plot()\n",
    "plt.legend(['Rg (Rosedene)', 'Rnet (Rosedene)', 'SW_IN (Redmere)', 'SW_OUT (Redmere)', 'LW_IN (Redmere)', 'LW_OUT (Redmere)', 'Calculated Rg (Redmere)'])\n",
    "plt.xlabel('Index')\n",
    "plt.ylabel('Radiation (W/m²)')\n",
    "plt.savefig('Rg_comparison.png')\n",
    "plt.show()\n"
   ]
  },
  {
   "cell_type": "code",
   "execution_count": null,
   "id": "1c8f989c",
   "metadata": {},
   "outputs": [],
   "source": [
    "print(site_data.SW_IN.min(), site_data.SW_IN.max())\n",
    "print(site_data.SW_OUT.min(), site_data.SW_OUT.max())\n",
    "print(site_data.LW_IN.min(), site_data.LW_IN.max())\n",
    "print(site_data.LW_OUT.min(), site_data.LW_OUT.max())\n"
   ]
  },
  {
   "cell_type": "code",
   "execution_count": 33,
   "id": "ac7a4d07",
   "metadata": {},
   "outputs": [],
   "source": [
    "main_to_fluxnet = {\n",
    "    'NEE': ['NEE_VUT_REF', 'NEE', 'NEE_VUT_USTAR50', 'NEE_VUT_USTAR05', 'NEE_VUT_USTAR95'],\n",
    "    'H': ['H', 'H_F_MDS'],\n",
    "    'Tau': ['TAU'],\n",
    "    'RH': ['RH', 'RH_F_MDS'],\n",
    "    'VPD': ['VPD', 'VPD_F_MDS'],\n",
    "    'Rg': ['SW_IN', 'SW_IN_F_MDS'],\n",
    "    'Ustar': ['USTAR'],\n",
    "    'Tsoil1': ['TS_1_1_1', 'TS_2_1_1'],\n",
    "    'Tsoil2': ['TS_1_2_1', 'TS_2_2_1'],\n",
    "    'Ta': ['TA', 'TA_F_MDS'],\n",
    "}"
   ]
  },
  {
   "cell_type": "code",
   "execution_count": 186,
   "id": "cfe90f22-cba9-4b3b-ad93-de5b7c4770b9",
   "metadata": {},
   "outputs": [],
   "source": [
    "\n",
    "def compare_main_to_site(main_data, site_data, main_to_fluxnet, main_col, n_points=500):\n",
    "    \"\"\"\n",
    "    Plots the selected column from main_data against all possible candidate columns from site_data.\n",
    "    Args:\n",
    "        main_data: DataFrame containing the main data.\n",
    "        site_data: DataFrame containing the site data.\n",
    "        main_to_fluxnet: Dictionary mapping main_data columns to possible site_data columns.\n",
    "        main_col: The column name in main_data to compare.\n",
    "        n_points: Number of points to plot (for speed/clarity).\n",
    "    \"\"\"\n",
    "    candidates = main_to_fluxnet.get(main_col, [])\n",
    "    if not candidates:\n",
    "        print(f\"No candidates found for {main_col}\")\n",
    "        return\n",
    "\n",
    "    # Prepare data (align by index, drop NaNs)\n",
    "    main_series = main_data[main_col].dropna()\n",
    "    fig, axes = plt.subplots(1, len(candidates), figsize=(5 * len(candidates), 4), squeeze=False)\n",
    "    for i, cand in enumerate(candidates):\n",
    "        if cand not in site_data.columns:\n",
    "            axes[0, i].set_title(f\"{cand}\\n(not found)\")\n",
    "            axes[0, i].axis('off')\n",
    "            continue\n",
    "        site_series = site_data[cand].dropna()\n",
    "        # Align by index (if possible)\n",
    "        df = main_series.to_frame('main').join(site_series.to_frame('site'), how='inner')\n",
    "        if df.empty:\n",
    "            axes[0, i].set_title(f\"{cand}\\n(no overlap)\")\n",
    "            axes[0, i].axis('off')\n",
    "            continue\n",
    "        # Optionally subsample for speed\n",
    "        df = df.sample(min(n_points, len(df)), random_state=0)\n",
    "        axes[0, i].scatter(df['main'], df['site'], alpha=0.5)\n",
    "        axes[0, i].set_xlabel(f\"{main_col} (main_data)\")\n",
    "        axes[0, i].set_ylabel(f\"{cand} (site_data)\")\n",
    "        axes[0, i].set_title(f\"{main_col} vs {cand}\")\n",
    "    plt.tight_layout()\n",
    "    plt.show()"
   ]
  },
  {
   "cell_type": "code",
   "execution_count": null,
   "id": "bec51b6f",
   "metadata": {},
   "outputs": [],
   "source": [
    "# Example usage:\n",
    "compare_main_to_site(main_data, site_data, main_to_fluxnet, 'Rg')\n",
    "\n",
    "\n",
    "\n"
   ]
  },
  {
   "cell_type": "code",
   "execution_count": 188,
   "id": "5b3e6e1c",
   "metadata": {},
   "outputs": [],
   "source": [
    "def plot_tsoil_comparison(main_data):\n",
    "    plt.figure(figsize=(12, 5))\n",
    "    plt.plot(main_data['Tsoil1'], label='Tsoil1', alpha=0.7)\n",
    "    plt.plot(main_data['Tsoil2'], label='Tsoil2', alpha=0.7)\n",
    "    plt.xlabel('Index')\n",
    "    plt.ylabel('Soil Temperature (°C)')\n",
    "    plt.title('Comparison of Tsoil1 and Tsoil2 from main_data')\n",
    "    plt.legend()\n",
    "    plt.tight_layout()\n",
    "    plt.show()\n",
    "\n",
    "def plot_tsoil_scatter(main_data):\n",
    "    plt.figure(figsize=(6, 6))\n",
    "    plt.scatter(main_data['Tsoil1'], main_data['Tsoil2'], alpha=0.5)\n",
    "    plt.xlabel('Tsoil1 (°C)')\n",
    "    plt.ylabel('Tsoil2 (°C)')\n",
    "    plt.title('Scatter Plot: Tsoil1 vs Tsoil2')\n",
    "    plt.grid(True)\n",
    "    plt.tight_layout()\n",
    "    plt.show()"
   ]
  },
  {
   "cell_type": "code",
   "execution_count": null,
   "id": "9ac95662",
   "metadata": {},
   "outputs": [],
   "source": [
    "plot_tsoil_scatter(main_data)"
   ]
  },
  {
   "cell_type": "code",
   "execution_count": 190,
   "id": "a43e9f4e",
   "metadata": {},
   "outputs": [],
   "source": [
    "def plot_all_site_tsoil_lines(site_data, ts_cols):\n",
    "    plt.figure(figsize=(15, 6))\n",
    "    for col in ts_cols:\n",
    "        plt.plot(site_data[col], label=col, alpha=0.7)\n",
    "    plt.xlabel('Index')\n",
    "    plt.ylabel('Soil Temperature (°C)')\n",
    "    plt.title('All TS_* Soil Temperature Columns (site_data)')\n",
    "    plt.legend(bbox_to_anchor=(1.05, 1), loc='upper left')\n",
    "    plt.tight_layout()\n",
    "    plt.show()\n",
    "\n",
    "def plot_all_site_tsoil_scatters(site_data, ts_cols, ncols=3):\n",
    "    pairs = list(itertools.combinations(ts_cols, 2))\n",
    "    nrows = (len(pairs) + ncols - 1) // ncols\n",
    "    fig, axes = plt.subplots(nrows, ncols, figsize=(5*ncols, 5*nrows))\n",
    "    axes = axes.flatten()\n",
    "    for i, (col1, col2) in enumerate(pairs):\n",
    "        axes[i].scatter(site_data[col1], site_data[col2], alpha=0.5)\n",
    "        axes[i].set_xlabel(f'{col1} (°C)')\n",
    "        axes[i].set_ylabel(f'{col2} (°C)')\n",
    "        axes[i].set_title(f'{col1} vs {col2}')\n",
    "        axes[i].grid(True)\n",
    "    # Hide any unused subplots\n",
    "    for j in range(i+1, len(axes)):\n",
    "        axes[j].axis('off')\n",
    "    plt.tight_layout()\n",
    "    plt.show()\n",
    "\n",
    "# Usage:\n",
    "ts_cols = [\n",
    "    'TS_3_1_1', 'TS_1_2_1', 'TS_2_2_1', 'TS_3_2_1', 'TS_1_3_1', 'TS_2_3_1', 'TS_3_3_1',\n",
    "    'TS_2_4_1', 'TS_1_5_1', 'TS_3_5_1', 'TS_2_6_1', 'TS_1_7_1', 'TS_1_8_1', 'TS_1_9_1',\n",
    "    'TS_3_9_1', 'TS_1_10_1', 'TS_1_11_1', 'TS_1_12_1'\n",
    "]"
   ]
  },
  {
   "cell_type": "code",
   "execution_count": null,
   "id": "14bc6441",
   "metadata": {},
   "outputs": [],
   "source": [
    "plot_all_site_tsoil_lines(site_data, ts_cols)\n",
    "plot_all_site_tsoil_scatters(site_data, ts_cols, ncols=3)\n"
   ]
  },
  {
   "cell_type": "code",
   "execution_count": 192,
   "id": "fb9a82ca",
   "metadata": {},
   "outputs": [],
   "source": [
    "def get_shallowest_ts_columns(site_data):\n",
    "    # Find all TS_* columns\n",
    "    ts_cols = [col for col in site_data.columns if col.startswith('TS_')]\n",
    "    # Parse columns into (position, depth, c)\n",
    "    parsed = []\n",
    "    for col in ts_cols:\n",
    "        m = re.match(r'TS_(\\d+)_(\\d+)_(\\d+)', col)\n",
    "        if m:\n",
    "            position, depth, c = map(int, m.groups())\n",
    "            parsed.append((col, position, depth, c))\n",
    "    # For each position, find the column with the minimum depth\n",
    "    shallowest = {}\n",
    "    for col, position, depth, c in parsed:\n",
    "        if position not in shallowest or depth < shallowest[position][1]:\n",
    "            shallowest[position] = (col, depth)\n",
    "    # Get the column names for the shallowest depth at each position\n",
    "    shallowest_cols = [v[0] for v in shallowest.values()]\n",
    "    return shallowest_cols\n",
    "\n",
    "def plot_shallowest_mean_vs_tsoil2(site_data, main_data):\n",
    "    shallowest_cols = get_shallowest_ts_columns(site_data)\n",
    "    shallowest_mean = site_data[shallowest_cols].mean(axis=1)\n",
    "\n",
    "    # Align indices to ensure same size and matching rows\n",
    "    # Use intersection of indices\n",
    "    common_index = main_data.index.intersection(shallowest_mean.index)\n",
    "    x = main_data.loc[common_index, 'Tsoil2']\n",
    "    y = shallowest_mean.loc[common_index]\n",
    "\n",
    "    # Drop any rows where either x or y is nan\n",
    "    mask = x.notna() & y.notna()\n",
    "    x = x[mask]\n",
    "    y = y[mask]\n",
    "\n",
    "    print(y)\n",
    "    plt.figure(figsize=(6, 6))\n",
    "    plt.scatter(x, y, alpha=0.5)\n",
    "    plt.xlabel('Tsoil2 (main_data)')\n",
    "    plt.ylabel('Mean shallowest TS_* (site_data)')\n",
    "    plt.title('Tsoil2 vs Mean Shallowest Soil Temp (site_data)')\n",
    "    plt.grid(True)\n",
    "    plt.tight_layout()\n",
    "    plt.show()\n",
    "    return shallowest_cols"
   ]
  },
  {
   "cell_type": "code",
   "execution_count": null,
   "id": "4076be55",
   "metadata": {},
   "outputs": [],
   "source": [
    "shallowest_cols = get_shallowest_ts_columns(site_data)\n",
    "print(\"Shallowest TS_* columns used:\", shallowest_cols)\n",
    "plot_shallowest_mean_vs_tsoil2(site_data, main_data)"
   ]
  },
  {
   "cell_type": "markdown",
   "id": "b0052db0",
   "metadata": {},
   "source": [
    "# This section is for data similar in format to Rosedene site data"
   ]
  },
  {
   "cell_type": "code",
   "execution_count": 42,
   "id": "6e8d2d01",
   "metadata": {},
   "outputs": [
    {
     "name": "stderr",
     "output_type": "stream",
     "text": [
      "/var/folders/7r/b0750y3s1vq7yqj7x8mjxc3m0000gn/T/ipykernel_62779/3227673430.py:2: UserWarning: Pandas doesn't allow columns to be created via a new attribute name - see https://pandas.pydata.org/pandas-docs/stable/indexing.html#attribute-access\n",
      "  site_data.Rg = site_data.SWin\n"
     ]
    }
   ],
   "source": [
    "# Redmere 1 and Great Fen\n",
    "site_data.Rg = site_data.SWin\n",
    "site_data.to_parquet(data_path.parent.joinpath(\"processed_data.parquet\"))"
   ]
  },
  {
   "cell_type": "code",
   "execution_count": 47,
   "id": "79b3a727",
   "metadata": {},
   "outputs": [],
   "source": [
    "# Wicken Fen\n",
    "site_data.Rg = site_data.SWin\n",
    "site_data.Ustar = site_data.ustar\n",
    "del site_data['ustar']\n",
    "site_data.to_parquet(data_path.parent.joinpath(\"processed_data.parquet\"))"
   ]
  }
 ],
 "metadata": {
  "kernelspec": {
   "display_name": "pytorch",
   "language": "python",
   "name": "python3"
  },
  "language_info": {
   "codemirror_mode": {
    "name": "ipython",
    "version": 3
   },
   "file_extension": ".py",
   "mimetype": "text/x-python",
   "name": "python",
   "nbconvert_exporter": "python",
   "pygments_lexer": "ipython3",
   "version": "3.12.7"
  }
 },
 "nbformat": 4,
 "nbformat_minor": 5
}
